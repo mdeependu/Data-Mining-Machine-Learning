{
 "cells": [
  {
   "cell_type": "code",
   "execution_count": null,
   "metadata": {
    "id": "h34RCjgbX8ne"
   },
   "outputs": [],
   "source": [
    "# Import Libraries\n",
    "import pandas as pd\n",
    "import numpy as np\n",
    "import matplotlib.pyplot as plt"
   ]
  },
  {
   "cell_type": "code",
   "execution_count": 80,
   "metadata": {
    "id": "qdEx2R3rZ0vz"
   },
   "outputs": [],
   "source": [
    "\n",
    "dataset = pd.read_csv(\"/content/svm.csv\")\n"
   ]
  },
  {
   "cell_type": "code",
   "execution_count": 81,
   "metadata": {
    "colab": {
     "base_uri": "https://localhost:8080/"
    },
    "id": "JE6rzUdneEhT",
    "outputId": "39246106-d57f-4b9e-bcb6-4d09b5758870"
   },
   "outputs": [
    {
     "data": {
      "text/html": [
       "<div>\n",
       "<style scoped>\n",
       "    .dataframe tbody tr th:only-of-type {\n",
       "        vertical-align: middle;\n",
       "    }\n",
       "\n",
       "    .dataframe tbody tr th {\n",
       "        vertical-align: top;\n",
       "    }\n",
       "\n",
       "    .dataframe thead th {\n",
       "        text-align: right;\n",
       "    }\n",
       "</style>\n",
       "<table border=\"1\" class=\"dataframe\">\n",
       "  <thead>\n",
       "    <tr style=\"text-align: right;\">\n",
       "      <th></th>\n",
       "      <th>ID</th>\n",
       "      <th>Clump</th>\n",
       "      <th>Unifsize</th>\n",
       "      <th>Unishape</th>\n",
       "      <th>Margadh</th>\n",
       "      <th>Singleepisize</th>\n",
       "      <th>BareNac</th>\n",
       "      <th>Bland Chrom</th>\n",
       "      <th>Norm Nuc</th>\n",
       "      <th>Mit</th>\n",
       "      <th>Class</th>\n",
       "    </tr>\n",
       "  </thead>\n",
       "  <tbody>\n",
       "    <tr>\n",
       "      <th>0</th>\n",
       "      <td>1000025</td>\n",
       "      <td>5</td>\n",
       "      <td>1</td>\n",
       "      <td>1</td>\n",
       "      <td>1</td>\n",
       "      <td>2</td>\n",
       "      <td>1</td>\n",
       "      <td>3</td>\n",
       "      <td>1</td>\n",
       "      <td>1</td>\n",
       "      <td>2</td>\n",
       "    </tr>\n",
       "    <tr>\n",
       "      <th>1</th>\n",
       "      <td>1002945</td>\n",
       "      <td>5</td>\n",
       "      <td>4</td>\n",
       "      <td>4</td>\n",
       "      <td>5</td>\n",
       "      <td>7</td>\n",
       "      <td>10</td>\n",
       "      <td>3</td>\n",
       "      <td>2</td>\n",
       "      <td>1</td>\n",
       "      <td>2</td>\n",
       "    </tr>\n",
       "    <tr>\n",
       "      <th>2</th>\n",
       "      <td>1015425</td>\n",
       "      <td>3</td>\n",
       "      <td>1</td>\n",
       "      <td>1</td>\n",
       "      <td>1</td>\n",
       "      <td>2</td>\n",
       "      <td>2</td>\n",
       "      <td>3</td>\n",
       "      <td>1</td>\n",
       "      <td>1</td>\n",
       "      <td>2</td>\n",
       "    </tr>\n",
       "    <tr>\n",
       "      <th>3</th>\n",
       "      <td>1016277</td>\n",
       "      <td>6</td>\n",
       "      <td>8</td>\n",
       "      <td>8</td>\n",
       "      <td>1</td>\n",
       "      <td>3</td>\n",
       "      <td>4</td>\n",
       "      <td>3</td>\n",
       "      <td>7</td>\n",
       "      <td>1</td>\n",
       "      <td>2</td>\n",
       "    </tr>\n",
       "    <tr>\n",
       "      <th>4</th>\n",
       "      <td>1017023</td>\n",
       "      <td>4</td>\n",
       "      <td>1</td>\n",
       "      <td>1</td>\n",
       "      <td>3</td>\n",
       "      <td>2</td>\n",
       "      <td>1</td>\n",
       "      <td>3</td>\n",
       "      <td>1</td>\n",
       "      <td>1</td>\n",
       "      <td>2</td>\n",
       "    </tr>\n",
       "  </tbody>\n",
       "</table>\n",
       "</div>"
      ],
      "text/plain": [
       "        ID  Clump  Unifsize  Unishape  ...  Bland Chrom  Norm Nuc Mit  Class\n",
       "0  1000025      5         1         1  ...            3         1   1      2\n",
       "1  1002945      5         4         4  ...            3         2   1      2\n",
       "2  1015425      3         1         1  ...            3         1   1      2\n",
       "3  1016277      6         8         8  ...            3         7   1      2\n",
       "4  1017023      4         1         1  ...            3         1   1      2\n",
       "\n",
       "[5 rows x 11 columns]"
      ]
     },
     "execution_count": 81,
     "metadata": {
      "tags": []
     },
     "output_type": "execute_result"
    }
   ],
   "source": [
    "dataset.head()"
   ]
  },
  {
   "cell_type": "code",
   "execution_count": 82,
   "metadata": {
    "colab": {
     "base_uri": "https://localhost:8080/"
    },
    "id": "tAa4bBYLjGUW",
    "outputId": "a03efe4b-e0d7-4b15-e746-1f610058d90f"
   },
   "outputs": [
    {
     "data": {
      "text/plain": [
       "(699, 11)"
      ]
     },
     "execution_count": 82,
     "metadata": {
      "tags": []
     },
     "output_type": "execute_result"
    }
   ],
   "source": [
    "dataset.shape"
   ]
  },
  {
   "cell_type": "code",
   "execution_count": 38,
   "metadata": {
    "colab": {
     "base_uri": "https://localhost:8080/",
     "height": 35
    },
    "id": "3FsHV0ihjyN7",
    "outputId": "900e3fac-39a3-431a-881e-7257a65660d1"
   },
   "outputs": [
    {
     "data": {
      "text/plain": [
       "7689"
      ]
     },
     "execution_count": 38,
     "metadata": {
      "tags": []
     },
     "output_type": "execute_result"
    }
   ],
   "source": [
    "dataset.size"
   ]
  },
  {
   "cell_type": "code",
   "execution_count": 40,
   "metadata": {
    "colab": {
     "base_uri": "https://localhost:8080/",
     "height": 237
    },
    "id": "YZ_Y8yoSkKHV",
    "outputId": "6a073181-9954-4ea5-bf7e-487367a7195a"
   },
   "outputs": [
    {
     "data": {
      "text/plain": [
       "ID               699\n",
       "Clump            699\n",
       "Unifsize         699\n",
       "Unishape         699\n",
       "Margadh          699\n",
       "Singleepisize    699\n",
       "BareNac          699\n",
       "Bland Chrom      699\n",
       "Norm Nuc         699\n",
       "Mit              699\n",
       "Class            699\n",
       "dtype: int64"
      ]
     },
     "execution_count": 40,
     "metadata": {
      "tags": []
     },
     "output_type": "execute_result"
    }
   ],
   "source": [
    "dataset.count()"
   ]
  },
  {
   "cell_type": "code",
   "execution_count": 83,
   "metadata": {
    "colab": {
     "base_uri": "https://localhost:8080/",
     "height": 72
    },
    "id": "4TW7u68UkKL4",
    "outputId": "8135b65a-b0b0-4625-8044-ae4fceb7166e"
   },
   "outputs": [
    {
     "data": {
      "text/plain": [
       "2    458\n",
       "4    241\n",
       "Name: Class, dtype: int64"
      ]
     },
     "execution_count": 83,
     "metadata": {
      "tags": []
     },
     "output_type": "execute_result"
    }
   ],
   "source": [
    "dataset['Class'].value_counts()"
   ]
  },
  {
   "cell_type": "code",
   "execution_count": 84,
   "metadata": {
    "colab": {
     "base_uri": "https://localhost:8080/"
    },
    "id": "zF2MqiXdj22J",
    "outputId": "ed6e84c1-144a-41dd-aa8d-5422e1d0ad12"
   },
   "outputs": [
    {
     "data": {
      "text/plain": [
       "<matplotlib.axes._subplots.AxesSubplot at 0x7f5c8bff8240>"
      ]
     },
     "execution_count": 84,
     "metadata": {
      "tags": []
     },
     "output_type": "execute_result"
    },
    {
     "data": {
      "image/png": "[encoded data removed]",
      "text/plain": [
       "<Figure size 432x288 with 1 Axes>"
      ]
     },
     "metadata": {
      "needs_background": "light",
      "tags": []
     },
     "output_type": "display_data"
    }
   ],
   "source": [
    "#Visualization\n",
    "#Filter: we want to choose rows of malignant type\n",
    "Malignant_dataset=dataset[dataset['Class']==4][0:200]\n",
    "Benign_dataset=dataset[dataset['Class']==2][0:200]\n",
    "axes= Benign_dataset.plot(kind='scatter', x='Clump',y='Unifsize', color='Blue', label='Benign')\n",
    "Malignant_dataset.plot(kind='scatter', x='Clump',y='Unifsize', color='Red', label='Malignant', ax=axes)"
   ]
  },
  {
   "cell_type": "code",
   "execution_count": 85,
   "metadata": {
    "colab": {
     "base_uri": "https://localhost:8080/"
    },
    "id": "OiZRFFW8lH5w",
    "outputId": "c820bb6c-774c-49ae-bca2-5bee2de27bf5"
   },
   "outputs": [
    {
     "data": {
      "text/plain": [
       "ID                int64\n",
       "Clump             int64\n",
       "Unifsize          int64\n",
       "Unishape          int64\n",
       "Margadh           int64\n",
       "Singleepisize     int64\n",
       "BareNac          object\n",
       "Bland Chrom       int64\n",
       "Norm Nuc          int64\n",
       "Mit               int64\n",
       "Class             int64\n",
       "dtype: object"
      ]
     },
     "execution_count": 85,
     "metadata": {
      "tags": []
     },
     "output_type": "execute_result"
    }
   ],
   "source": [
    "#idenitifying unwanted dataset/ rows\n",
    "dataset.dtypes"
   ]
  },
  {
   "cell_type": "code",
   "execution_count": 86,
   "metadata": {
    "id": "CvWQkTTkmxqf"
   },
   "outputs": [],
   "source": [
    "#Remove Unwanted rows: convert the value into numeric\n",
    "dataset=dataset[pd.to_numeric(dataset['BareNac'], errors='coerce').notnull()]\n",
    "dataset.dtypes\n",
    "dataset['BareNac']=dataset['BareNac'].astype('int')"
   ]
  },
  {
   "cell_type": "code",
   "execution_count": 87,
   "metadata": {
    "colab": {
     "base_uri": "https://localhost:8080/",
     "height": 237
    },
    "id": "q73pDDjxnu1S",
    "outputId": "cdda979e-0020-4cca-8836-56e16720fd5b"
   },
   "outputs": [
    {
     "data": {
      "text/plain": [
       "ID               int64\n",
       "Clump            int64\n",
       "Unifsize         int64\n",
       "Unishape         int64\n",
       "Margadh          int64\n",
       "Singleepisize    int64\n",
       "BareNac          int64\n",
       "Bland Chrom      int64\n",
       "Norm Nuc         int64\n",
       "Mit              int64\n",
       "Class            int64\n",
       "dtype: object"
      ]
     },
     "execution_count": 87,
     "metadata": {
      "tags": []
     },
     "output_type": "execute_result"
    }
   ],
   "source": [
    "dataset.dtypes"
   ]
  },
  {
   "cell_type": "code",
   "execution_count": 88,
   "metadata": {
    "colab": {
     "base_uri": "https://localhost:8080/"
    },
    "id": "q0iaGIl6n5RC",
    "outputId": "a1dd0c07-7667-4fc3-a5e8-b645803664e8"
   },
   "outputs": [
    {
     "data": {
      "text/plain": [
       "Index(['ID', 'Clump', 'Unifsize', 'Unishape', 'Margadh', 'Singleepisize',\n",
       "       'BareNac', 'Bland Chrom', 'Norm Nuc', 'Mit', 'Class'],\n",
       "      dtype='object')"
      ]
     },
     "execution_count": 88,
     "metadata": {
      "tags": []
     },
     "output_type": "execute_result"
    }
   ],
   "source": [
    "dataset.columns\n",
    "#Dependent type of attribute:\n",
    "#Class"
   ]
  },
  {
   "cell_type": "code",
   "execution_count": 63,
   "metadata": {
    "id": "R6x_9OkJoymz"
   },
   "outputs": [],
   "source": [
    "feature_set=dataset[['Clump', 'Unifsize', 'Unishape', 'Margadh', 'Singleepisize', 'BareNac','Bland Chrom', 'Norm Nuc', 'Mit']]"
   ]
  },
  {
   "cell_type": "code",
   "execution_count": 64,
   "metadata": {
    "colab": {
     "base_uri": "https://localhost:8080/",
     "height": 109
    },
    "id": "q1ON6wzapGLS",
    "outputId": "3dff4498-c839-495f-957b-b36013e4a14d"
   },
   "outputs": [
    {
     "data": {
      "text/plain": [
       "array([[ 5,  1,  1,  1,  2,  3,  1,  1,  1],\n",
       "       [ 5,  4,  4,  5,  7,  3,  2,  1, 10],\n",
       "       [ 3,  1,  1,  1,  2,  3,  1,  1,  2],\n",
       "       [ 6,  8,  8,  1,  3,  3,  7,  1,  4],\n",
       "       [ 4,  1,  1,  3,  2,  3,  1,  1,  1]])"
      ]
     },
     "execution_count": 64,
     "metadata": {
      "tags": []
     },
     "output_type": "execute_result"
    }
   ],
   "source": [
    "#numpy- passing as an argunment in train test split method\n",
    "#100 rows, 11 colums\n",
    "#filter 9 columns, independent variable\n",
    "#independent variable\n",
    "x=np.asarray(feature_set)\n",
    "y=np.asarray(dataset['Class'])\n",
    "x[0:5]"
   ]
  },
  {
   "cell_type": "code",
   "execution_count": 65,
   "metadata": {
    "id": "hnoWjSvSp03N"
   },
   "outputs": [],
   "source": [
    "#divide the data into training part and testing part\n",
    "#X- 2-D array\n",
    "#y is 1-D array\n",
    "from sklearn.model_selection import train_test_split\n",
    "x_train,x_test, y_train, y_test=train_test_split(x,y,test_size=.2,random_state=4)"
   ]
  },
  {
   "cell_type": "code",
   "execution_count": 66,
   "metadata": {
    "colab": {
     "base_uri": "https://localhost:8080/",
     "height": 35
    },
    "id": "Kf-35u05q7Af",
    "outputId": "85089d3e-bf5f-4573-8ebb-5863736cb65f"
   },
   "outputs": [
    {
     "data": {
      "text/plain": [
       "(546, 9)"
      ]
     },
     "execution_count": 66,
     "metadata": {
      "tags": []
     },
     "output_type": "execute_result"
    }
   ],
   "source": [
    "x_train.shape"
   ]
  },
  {
   "cell_type": "code",
   "execution_count": 67,
   "metadata": {
    "colab": {
     "base_uri": "https://localhost:8080/",
     "height": 35
    },
    "id": "6cjGfARhq9FO",
    "outputId": "4ef8dd6c-a2a5-4690-f5bf-ca0b08d7b8b6"
   },
   "outputs": [
    {
     "data": {
      "text/plain": [
       "(137,)"
      ]
     },
     "execution_count": 67,
     "metadata": {
      "tags": []
     },
     "output_type": "execute_result"
    }
   ],
   "source": [
    "y_test.shape"
   ]
  },
  {
   "cell_type": "code",
   "execution_count": 71,
   "metadata": {
    "id": "w_212ngNrDI_"
   },
   "outputs": [],
   "source": [
    "#Modelling, kernel= see data into different set of dimension\n",
    "from sklearn import svm\n",
    "classifier= svm.SVC(kernel='linear', gamma='auto', C=2)"
   ]
  },
  {
   "cell_type": "code",
   "execution_count": 72,
   "metadata": {
    "colab": {
     "base_uri": "https://localhost:8080/",
     "height": 90
    },
    "id": "Epiq-i8nsDsE",
    "outputId": "93f178bd-923c-4e14-f962-c86811987c90"
   },
   "outputs": [
    {
     "data": {
      "text/plain": [
       "SVC(C=2, break_ties=False, cache_size=200, class_weight=None, coef0=0.0,\n",
       "    decision_function_shape='ovr', degree=3, gamma='auto', kernel='linear',\n",
       "    max_iter=-1, probability=False, random_state=None, shrinking=True,\n",
       "    tol=0.001, verbose=False)"
      ]
     },
     "execution_count": 72,
     "metadata": {
      "tags": []
     },
     "output_type": "execute_result"
    }
   ],
   "source": [
    "#Classifier is used to fit the data\n",
    "classifier.fit(x_train, y_train)"
   ]
  },
  {
   "cell_type": "code",
   "execution_count": 74,
   "metadata": {
    "id": "SG2ImT6jsYkv"
   },
   "outputs": [],
   "source": [
    "y_pred=classifier.predict(x_test)"
   ]
  },
  {
   "cell_type": "code",
   "execution_count": 76,
   "metadata": {
    "colab": {
     "base_uri": "https://localhost:8080/",
     "height": 182
    },
    "id": "NXXSCplzsiCG",
    "outputId": "c7a03e61-a3a4-4f24-c087-fe704f632ead"
   },
   "outputs": [
    {
     "name": "stdout",
     "output_type": "stream",
     "text": [
      "              precision    recall  f1-score   support\n",
      "\n",
      "           2       1.00      0.94      0.97        90\n",
      "           4       0.90      1.00      0.95        47\n",
      "\n",
      "    accuracy                           0.96       137\n",
      "   macro avg       0.95      0.97      0.96       137\n",
      "weighted avg       0.97      0.96      0.96       137\n",
      "\n"
     ]
    }
   ],
   "source": [
    "#evaluate the result\n",
    "from sklearn.metrics import classification_report\n",
    "print(classification_report(y_test, y_pred))"
   ]
  },
  {
   "cell_type": "code",
   "execution_count": null,
   "metadata": {
    "id": "uYuGTXREs41Q"
   },
   "outputs": [],
   "source": []
  }
 ],
 "metadata": {
  "colab": {
   "name": "SVM.ipynb",
   "provenance": []
  },
  "kernelspec": {
   "display_name": "Python 3",
   "language": "python",
   "name": "python3"
  },
  "language_info": {
   "codemirror_mode": {
    "name": "ipython",
    "version": 3
   },
   "file_extension": ".py",
   "mimetype": "text/x-python",
   "name": "python",
   "nbconvert_exporter": "python",
   "pygments_lexer": "ipython3",
   "version": "3.8.3"
  }
 },
 "nbformat": 4,
 "nbformat_minor": 1
}
